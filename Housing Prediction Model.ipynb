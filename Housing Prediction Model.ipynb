{
 "cells": [
  {
   "cell_type": "markdown",
   "id": "dd60f5f6-bf0f-4e6c-bdd6-ce46885acfea",
   "metadata": {},
   "source": [
    "# Problem statement\n",
    "Over the years, Paris has faced alot of issues in relation to housing including:\n",
    "\n",
    "    . Affordability\n",
    "    . Supply and demand imbalance\n",
    "    . Rising rent prices\n",
    "    . Urbanization\n",
    "    . Regulatory challenges\n",
    "    . Social Housing Shortages\n",
    "    . Market Speculation\n",
    "    . Impact of External Events\n",
    "\n",
    "In the face of burgeoning urban populations and evolving socio-economic dynamics, a distinguished group of investors seeks to establish a real estate \n",
    "firm in the vibrant city of Paris. They wish to address the pressing issue of affordable housing that has emerged as a critical challenge.\n",
    "Due to the increased number of middle-class people who would also like the high-end properties in Paris, Mali Safi and sons has been engaged to\n",
    "analyze existing data, draw meaningful insights, and guide their strategic decisions to affordable housing.\n",
    "\n",
    "Essentially the real estate company wants:\n",
    "\n",
    "i. To identify the variables affecting the prices \n",
    "\n",
    "ii. To construct a regression model that correlates the property prices with the variables\n",
    "  \n",
    "iii. To evaluate the performance of the regression model in identifying the factors affecting property prices."
   ]
  },
  {
   "cell_type": "markdown",
   "id": "a31be568-ac95-4cc6-991d-df76c841dd8c",
   "metadata": {},
   "source": [
    "# Data Understanding"
   ]
  },
  {
   "cell_type": "code",
   "execution_count": null,
   "id": "da397051-07ae-4f73-96c2-74c68774cb3b",
   "metadata": {},
   "outputs": [],
   "source": [
    "#importing relevant modules\n",
    "import pandas as pd\n",
    "import numpy as np\n",
    "import seaborn as sns\n",
    "import matplotlib.pyplot as plt\n",
    "from scipy import stats\n",
    "import statsmodels.api as sm\n",
    "import statsmodels.formula.api as smf\n",
    "from sklearn.linear_model import LinearRegression\n",
    "import warnings\n",
    "warnings.filterwarnings(\"ignore\")"
   ]
  },
  {
   "cell_type": "code",
   "execution_count": null,
   "id": "39f210d1-d22e-45fe-b1c8-e90428daec35",
   "metadata": {},
   "outputs": [],
   "source": [
    "df = pd.read_csv('ParisHousing.csv')\n",
    "df.head()"
   ]
  },
  {
   "cell_type": "code",
   "execution_count": null,
   "id": "5b7b6861-e66e-4b15-8369-659034415a06",
   "metadata": {},
   "outputs": [],
   "source": [
    "#Checking the shape of the data\n",
    "df.shape"
   ]
  },
  {
   "cell_type": "code",
   "execution_count": null,
   "id": "bca1319f-1f91-46b9-95fd-49cdd809537e",
   "metadata": {},
   "outputs": [],
   "source": [
    "#Understanding the general information of the data\n",
    "df.info()"
   ]
  },
  {
   "cell_type": "code",
   "execution_count": null,
   "id": "038adfbb-7d36-4006-b199-5c94a06e0e17",
   "metadata": {},
   "outputs": [],
   "source": [
    "#Understanding the descriptive statistics of the data\n",
    "df.describe()"
   ]
  },
  {
   "cell_type": "markdown",
   "id": "7f3b2593",
   "metadata": {},
   "source": [
    "# Data preparation and cleaning"
   ]
  },
  {
   "cell_type": "markdown",
   "id": "7e6ebfef",
   "metadata": {},
   "source": [
    "## Defining variables"
   ]
  },
  {
   "cell_type": "markdown",
   "id": "ee4e6290",
   "metadata": {},
   "source": [
    "\n",
    "Dependent variable:\n",
    "   \n",
    "    1. Price\n",
    "\n",
    "Independent variables: \n",
    "    \n",
    "    1. Square meters\n",
    "    2. No of rooms\n",
    "    3. Has pool\n",
    "    4. Has yard\n",
    "    5. Year made\n",
    "    6. Is new built\n",
    "    7. Has storm protector\n",
    "    8. Basement\n",
    "    9. Attic\n",
    "    10. Garage\n",
    "    11. Storage room\n",
    "    12. Guest room\n",
    "Categorical Variables:\n",
    "\n",
    "    1. has_pool\n",
    "    2. has_storm_protector\n",
    "    3. has_basement\n",
    "    4. has_attic\n",
    "    5. has_garage\n",
    "    6. has_storage_room\n",
    "    7. has_guest_room\n",
    "    8. made: year the property was made\n",
    "    9. isNewBuilt\n",
    "    10. floors\n",
    "\n",
    "Continuous Variables:\n",
    "\n",
    "    1. Price\n",
    "    2. square meters: Size of the Property\n",
    "    3. Number of Rooms"
   ]
  },
  {
   "cell_type": "code",
   "execution_count": null,
   "id": "3c382039",
   "metadata": {},
   "outputs": [],
   "source": [
    "#Creating a new dataframe for analysis\n",
    "new_df = df.loc[:, ['squareMeters', 'numberOfRooms', 'hasYard', 'hasPool', 'floors', 'numPrevOwners', 'made', 'isNewBuilt', 'hasStormProtector',\n",
    "                      'basement', 'attic', 'garage', 'hasStorageRoom', 'hasGuestRoom', 'price']]\n",
    "new_df"
   ]
  },
  {
   "cell_type": "code",
   "execution_count": null,
   "id": "3a50420d",
   "metadata": {},
   "outputs": [],
   "source": [
    "#Checking for null values\n",
    "new_df.isnull().sum()"
   ]
  },
  {
   "cell_type": "code",
   "execution_count": null,
   "id": "f82956f5",
   "metadata": {},
   "outputs": [],
   "source": [
    "#Checking for duplicates\n",
    "new_df.duplicated().sum()"
   ]
  },
  {
   "cell_type": "markdown",
   "id": "ba308c21",
   "metadata": {},
   "source": [
    "# Checking for outliers"
   ]
  },
  {
   "cell_type": "code",
   "execution_count": null,
   "id": "846f86a7",
   "metadata": {},
   "outputs": [],
   "source": [
    "#checking for outliers for price\n",
    "plt.figure(figsize=(10,2))\n",
    "\n",
    "sns.boxplot(x = 'price', data = new_df)\n",
    "\n",
    "# Display the plot\n",
    "plt.show()"
   ]
  },
  {
   "cell_type": "code",
   "execution_count": null,
   "id": "1697bf88",
   "metadata": {},
   "outputs": [],
   "source": [
    "#checking for outliers for squareMeters\n",
    "plt.figure(figsize=(10,2))\n",
    "\n",
    "sns.boxplot(x = 'squareMeters', data = new_df)\n",
    "\n",
    "# Display the plot\n",
    "plt.show()"
   ]
  },
  {
   "cell_type": "code",
   "execution_count": null,
   "id": "f333166d",
   "metadata": {},
   "outputs": [],
   "source": [
    "#checking for outliers for numberOfRooms\n",
    "plt.figure(figsize=(10,2))\n",
    "\n",
    "sns.boxplot(x = 'numberOfRooms', data = new_df)\n",
    "\n",
    "# Display the plot\n",
    "plt.show()"
   ]
  },
  {
   "cell_type": "code",
   "execution_count": null,
   "id": "c4d0af62",
   "metadata": {},
   "outputs": [],
   "source": [
    "#checking for outliers for hasYard\n",
    "\n",
    "plt.figure(figsize=(10,2))\n",
    "\n",
    "sns.boxplot(x = 'hasYard', data = new_df)\n",
    "# Display the plot\n",
    "plt.show()"
   ]
  },
  {
   "cell_type": "code",
   "execution_count": null,
   "id": "ebe60897",
   "metadata": {},
   "outputs": [],
   "source": [
    "#checking for outliers for hasPool\n",
    "plt.figure(figsize=(10,2))\n",
    "\n",
    "sns.boxplot(x = 'hasPool', data = new_df)\n",
    "# Display the plot\n",
    "plt.show()"
   ]
  },
  {
   "cell_type": "code",
   "execution_count": null,
   "id": "ca2dc52b",
   "metadata": {},
   "outputs": [],
   "source": [
    "#checking for outliers for isNewBuilt\n",
    "plt.figure(figsize=(10,2))\n",
    "\n",
    "sns.boxplot(x = 'isNewBuilt', data = new_df)\n",
    "# Display the plot\n",
    "plt.show()"
   ]
  },
  {
   "cell_type": "code",
   "execution_count": null,
   "id": "5e694a28",
   "metadata": {},
   "outputs": [],
   "source": [
    "#checking for outliers for hasStormProtector\n",
    "plt.figure(figsize=(10,2))\n",
    "\n",
    "sns.boxplot(x = 'hasStormProtector', data = new_df)\n",
    "# Display the plot\n",
    "plt.show()"
   ]
  },
  {
   "cell_type": "code",
   "execution_count": null,
   "id": "daf735b7",
   "metadata": {},
   "outputs": [],
   "source": [
    "#checking for outliers for hasStorageRoom\n",
    "plt.figure(figsize=(10,2))\n",
    "\n",
    "sns.boxplot(x = 'hasStorageRoom', data = new_df)\n",
    "# Display the plot\n",
    "plt.show()"
   ]
  },
  {
   "cell_type": "code",
   "execution_count": null,
   "id": "079cb76c",
   "metadata": {},
   "outputs": [],
   "source": [
    "#checking for outliers for numPrevOwners\n",
    "\n",
    "plt.figure(figsize=(10,2))\n",
    "\n",
    "sns.boxplot(x = 'numPrevOwners', data = new_df)\n",
    "# Display the plot\n",
    "plt.show()"
   ]
  },
  {
   "cell_type": "code",
   "execution_count": null,
   "id": "ec87ac4d",
   "metadata": {},
   "outputs": [],
   "source": [
    "#checking for outliers for made\n",
    "plt.figure(figsize=(10,2))\n",
    "\n",
    "sns.boxplot(x = 'made', data = new_df)\n",
    "# Display the plot\n",
    "plt.show()"
   ]
  },
  {
   "cell_type": "code",
   "execution_count": null,
   "id": "2013c207",
   "metadata": {},
   "outputs": [],
   "source": [
    "#checking for outliers for basement\n",
    "plt.figure(figsize=(10,2))\n",
    "\n",
    "sns.boxplot(x = 'basement', data = new_df)\n",
    "# Display the plot\n",
    "plt.show()"
   ]
  },
  {
   "cell_type": "code",
   "execution_count": null,
   "id": "5ce992d1",
   "metadata": {},
   "outputs": [],
   "source": [
    "#checking for outliers for garage\n",
    "plt.figure(figsize=(10,2))\n",
    "\n",
    "sns.boxplot(x = 'garage', data = new_df)\n",
    "# Display the plot\n",
    "plt.show()"
   ]
  },
  {
   "cell_type": "code",
   "execution_count": null,
   "id": "6912ba95",
   "metadata": {},
   "outputs": [],
   "source": [
    "#checking for outliers for attic\n",
    "plt.figure(figsize=(10,2))\n",
    "\n",
    "sns.boxplot(x = 'attic', data = new_df)\n",
    "# Display the plot\n",
    "plt.show()"
   ]
  },
  {
   "cell_type": "code",
   "execution_count": null,
   "id": "8d64ed35",
   "metadata": {},
   "outputs": [],
   "source": [
    "#checking for outliers for hasGuestRoom\n",
    "plt.figure(figsize=(10,2))\n",
    "\n",
    "sns.boxplot(x = 'hasGuestRoom', data = new_df)\n",
    "# Display the plot\n",
    "plt.show()"
   ]
  },
  {
   "cell_type": "markdown",
   "id": "2b0b0782",
   "metadata": {},
   "source": [
    "## Normalization and Scaling"
   ]
  },
  {
   "cell_type": "code",
   "execution_count": null,
   "id": "6b1b2f34",
   "metadata": {},
   "outputs": [],
   "source": [
    "from sklearn.preprocessing import MinMaxScaler\n",
    "\n",
    "# Initialize the MinMaxScaler\n",
    "scaler = MinMaxScaler()\n",
    "# Fitting and transforming the (new_df) data\n",
    "scaled_new_df = scaler.fit_transform(new_df)\n",
    "# Print the original and scaled data\n",
    "print(\"Original Data:\")\n",
    "print(new_df)\n",
    "print(\"\\nScaled Data:\")\n",
    "print(scaled_new_df)\n"
   ]
  },
  {
   "cell_type": "code",
   "execution_count": null,
   "id": "37724a9b",
   "metadata": {},
   "outputs": [],
   "source": [
    "scaled_new_df"
   ]
  },
  {
   "cell_type": "code",
   "execution_count": null,
   "id": "fc8d20f4",
   "metadata": {},
   "outputs": [],
   "source": [
    "#assigning the columns to the scaled data for easier visualisation\n",
    "\n",
    "new_df_columns = ['squareMeters', 'numberOfRooms', 'hasYard', 'hasPool', 'floors', 'numPrevOwners', 'made', 'isNewBuilt', 'hasStormProtector',\n",
    "                      'basement', 'attic', 'garage', 'hasStorageRoom', 'hasGuestRoom', 'price']\n",
    "\n",
    "scaled_df = pd.DataFrame(scaled_new_df, columns=new_df_columns)\n",
    "\n",
    "scaled_df"
   ]
  },
  {
   "cell_type": "markdown",
   "id": "c4085ff8",
   "metadata": {},
   "source": [
    "# Exploratory Data analysis"
   ]
  },
  {
   "cell_type": "code",
   "execution_count": null,
   "id": "7137f0c2",
   "metadata": {},
   "outputs": [],
   "source": [
    "new_df.describe()"
   ]
  },
  {
   "cell_type": "code",
   "execution_count": null,
   "id": "957c3633",
   "metadata": {},
   "outputs": [],
   "source": [
    "scaled_df.describe()"
   ]
  },
  {
   "cell_type": "code",
   "execution_count": null,
   "id": "3b0bc4de",
   "metadata": {},
   "outputs": [],
   "source": [
    "#distribution of the scaled data before transformation\n",
    "\n",
    "fig, axes = plt.subplots(6, 3, figsize=(18, 12))\n",
    "\n",
    "axes = axes.flatten()\n",
    "\n",
    "for i, column in enumerate(scaled_df.columns):\n",
    "    ax = axes[i]\n",
    "    sns.histplot(scaled_df[column], kde=True, ax=ax)\n",
    "    ax.set_title(f'Histogram of {column}')\n",
    "    ax.set_xlabel(column)\n",
    "    ax.set_ylabel('Frequency')\n",
    "\n",
    "plt.tight_layout()\n",
    "plt.show()"
   ]
  },
  {
   "cell_type": "code",
   "execution_count": null,
   "id": "cabdd9bd",
   "metadata": {},
   "outputs": [],
   "source": [
    "#Transforming scaled_df from uniform distribution to normal distribution via QuantileTransformation\n",
    "from sklearn.preprocessing import QuantileTransformer\n",
    "from matplotlib import pyplot as plt\n",
    "# Create an instance of QuantileTransformer\n",
    "quantile_transformer = QuantileTransformer(output_distribution='normal')\n",
    "\n",
    "transformed_df = quantile_transformer.fit_transform(scaled_df)\n",
    "transformed_df = pd.DataFrame(transformed_df, columns=scaled_df.columns)\n",
    "transformed_df"
   ]
  },
  {
   "cell_type": "code",
   "execution_count": null,
   "id": "03ee9138",
   "metadata": {},
   "outputs": [],
   "source": [
    "#Normal distributed data\n",
    "fig, axes = plt.subplots(6, 3, figsize=(18, 12))\n",
    "\n",
    "axes = axes.flatten()\n",
    "\n",
    "for i, column in enumerate(transformed_df.columns):\n",
    "    ax = axes[i]\n",
    "    sns.histplot(transformed_df[column], kde=True, ax=ax)\n",
    "    ax.set_title(f'Histogram of {column}')\n",
    "    ax.set_xlabel(column)\n",
    "    ax.set_ylabel('Frequency')\n",
    "\n",
    "plt.tight_layout()\n",
    "plt.show()"
   ]
  },
  {
   "cell_type": "code",
   "execution_count": null,
   "id": "2685b9ed",
   "metadata": {},
   "outputs": [],
   "source": [
    "correlation_matrix = transformed_df.corr()\n",
    "\n",
    "plt.figure(figsize=(10, 8))\n",
    "heatmap = sns.heatmap(correlation_matrix, annot=True, cmap='coolwarm', fmt=\".2f\", linewidths=0.5)\n",
    "\n",
    "heatmap.set_title('Heatmap of Variable Relationships', fontsize=16)\n",
    "heatmap.set_xticklabels(heatmap.get_xticklabels(), rotation=45, horizontalalignment='right')\n",
    "\n",
    "plt.show()"
   ]
  },
  {
   "cell_type": "code",
   "execution_count": null,
   "id": "1610df31",
   "metadata": {},
   "outputs": [],
   "source": [
    "correlation_with_price =  transformed_df.corr()['price'].sort_values(ascending=False)\n",
    "\n",
    "correlation_with_price.plot(kind='bar', figsize=(12, 6), color='skyblue')\n",
    "plt.title('Correlation with Price')\n",
    "plt.xlabel('Features')\n",
    "plt.ylabel('Correlation')\n",
    "plt.show()"
   ]
  },
  {
   "cell_type": "markdown",
   "id": "64177b58",
   "metadata": {},
   "source": [
    "## Using training and testing sets by splitting the dataset"
   ]
  },
  {
   "cell_type": "markdown",
   "id": "661639e2",
   "metadata": {},
   "source": [
    "Splitting the dataset into training and testing sets"
   ]
  },
  {
   "cell_type": "code",
   "execution_count": null,
   "id": "1bc473da",
   "metadata": {},
   "outputs": [],
   "source": [
    "from sklearn.model_selection import train_test_split\n",
    "# Specify the features (X) and the target variable (y)\n",
    "X = transformed_df.drop('price', axis=1)\n",
    "y = transformed_df['price']\n",
    "\n",
    "# Split the dataset into training and testing sets\n",
    "# The test_size parameter specifies the proportion of the dataset to include in the test split (here, 20%)\n",
    "# The random_state parameter ensures reproducibility by fixing the random seed\n",
    "X_train, X_test, y_train, y_test = train_test_split(X, y, test_size=0.2, random_state=42)\n",
    "\n",
    "# Now you can use X_train and y_train for training your model\n",
    "# and X_test and y_test for evaluating its performance\n",
    "X_test"
   ]
  },
  {
   "cell_type": "markdown",
   "id": "7113af22",
   "metadata": {},
   "source": [
    "Training the model using the training set"
   ]
  },
  {
   "cell_type": "code",
   "execution_count": null,
   "id": "6f006404",
   "metadata": {},
   "outputs": [],
   "source": [
    "from sklearn.linear_model import LinearRegression\n",
    "from sklearn.metrics import mean_squared_error, r2_score\n",
    "# Create a linear regression model\n",
    "model = LinearRegression()\n",
    "\n",
    "# Train the model using the training set\n",
    "model.fit(X_train, y_train)\n",
    "y_pred = model.predict(X_test)\n",
    "\n",
    "mse = mean_squared_error(y_test, y_pred)\n",
    "r2 = r2_score(y_test, y_pred)\n",
    "print(f'Mean Squared Error: {mse}')\n",
    "print(f'R-squared Score: {r2}')\n",
    "# The model is now trained and can be used for making predictions"
   ]
  },
  {
   "cell_type": "markdown",
   "id": "06532ff4",
   "metadata": {},
   "source": [
    "OLS regression summary"
   ]
  },
  {
   "cell_type": "code",
   "execution_count": null,
   "id": "127b2ac6",
   "metadata": {},
   "outputs": [],
   "source": [
    "results_1 = smf.ols('price ~ squareMeters', data = transformed_df).fit()\n",
    "results_1.summary()"
   ]
  },
  {
   "cell_type": "markdown",
   "id": "05c4089d",
   "metadata": {},
   "source": [
    "## Using two variables for train and test sets"
   ]
  },
  {
   "cell_type": "code",
   "execution_count": null,
   "id": "e7d2d5da",
   "metadata": {},
   "outputs": [],
   "source": [
    "from sklearn.metrics import mean_squared_error\n",
    "\n",
    "# Step 1 : split the data into train and test sets\n",
    "\n",
    "train_data,test_data=train_test_split(transformed_df,train_size=0.8,random_state=3)\n",
    "\n",
    "# Step 2 : Train the model on the Training set\n",
    "reg=LinearRegression()\n",
    "\n",
    "x_train=np.array(train_data['squareMeters']).reshape(-1,1)\n",
    "\n",
    "y_train=np.array(train_data['price']).reshape(-1,1)\n",
    "\n",
    "reg.fit(x_train,y_train)\n",
    "\n",
    "# Step 3 : Predict the test results\n",
    "\n",
    "x_test=np.array(test_data['squareMeters']).reshape(-1,1)\n",
    "\n",
    "y_test=np.array(test_data['price']).reshape(-1,1)\n",
    "print('R squared training',round(reg.score(x_train,y_train),3))\n",
    "\n",
    "print('R squared testing',round(reg.score(x_test,y_test),3) )\n",
    "\n",
    "print('intercept',reg.intercept_)\n",
    "\n",
    "print('coefficient',reg.coef_)"
   ]
  },
  {
   "cell_type": "markdown",
   "id": "c645189f-aaf7-409a-b2b9-572d551e79fe",
   "metadata": {},
   "source": [
    "#### Intercept and Coefficient interpretation:\n",
    "The intercept is 2.27299494e-05 , and the coefficient for the independent variable is 1.00034209.\n",
    "This suggests that the model is a perfect fit to the data, and it predicts the dependent variable (price) based on the independent variable \n",
    "(squareMeters) with very high accuracy. The coefficient for squareMeters is very close to 1, indicating a strong positive linear relationship \n",
    "between the independent and dependent variables.\n"
   ]
  },
  {
   "cell_type": "code",
   "execution_count": null,
   "id": "5168a197-bf02-4a36-b30c-67489a5e9829",
   "metadata": {},
   "outputs": [],
   "source": [
    "from statsmodels.stats.anova import anova_lm\n",
    "\n",
    "# Hypothesis Testing for Multiple Variables Influence on Price\n",
    "m_1 = 'price ~ basement + numberOfRooms + squareMeters + attic + garage'\n",
    "result3 = smf.ols(m_1, data=transformed_df).fit()\n",
    "\n",
    "anova_table = anova_lm(result3)\n",
    "\n",
    "alpha = 0.05  # significance level\n",
    "\n",
    "if anova_table['PR(>F)']['basement'] < alpha and anova_table['PR(>F)']['numberOfRooms'] < alpha \\\n",
    "    and anova_table['PR(>F)']['squareMeters'] < alpha and anova_table['PR(>F)']['attic'] < alpha \\\n",
    "    and anova_table['PR(>F)']['garage'] < alpha:\n",
    "    print(\"Reject the null hypothesis: The combination of variables significantly influences the price.\")\n",
    "else:\n",
    "    print(\"Do not reject the null hypothesis: The combination of variables does not significantly influence the price.\")"
   ]
  },
  {
   "cell_type": "code",
   "execution_count": null,
   "id": "23e9fa72-2f5f-4198-9d46-77c2935f7c4d",
   "metadata": {},
   "outputs": [],
   "source": [
    "from scipy.stats import linregress\n",
    "\n",
    "# Hypothesis Testing for Square Meters and Price Relationship\n",
    "slope, intercept, r_value, p_value, std_err = linregress(transformed_df['squareMeters'], transformed_df['price'])\n",
    "\n",
    "alpha = 0.05  # significance level\n",
    "\n",
    "if p_value < alpha:\n",
    "    print(\"Reject the null hypothesis: There is a significant linear relationship between square meters and price.\")\n",
    "else:\n",
    "    print(\"Fail to reject the null hypothesis: There is no significant linear relationship between square meters and price.\")"
   ]
  },
  {
   "cell_type": "markdown",
   "id": "18e690fa",
   "metadata": {},
   "source": [
    "## Plotting the Predicted Regression line for two variables."
   ]
  },
  {
   "cell_type": "code",
   "execution_count": null,
   "id": "b2e9cfe2",
   "metadata": {},
   "outputs": [],
   "source": [
    "_, ax = plt.subplots(figsize= (10, 8))\n",
    "\n",
    "plt.scatter(x_test, y_test, color= 'blue', label = 'data')\n",
    "\n",
    "plt.plot(x_test, reg.predict(x_test), color='red', label= 'Predicted Regression line')\n",
    "\n",
    "plt.xlabel('squareMeters')\n",
    "plt.ylabel('price')\n",
    "plt.legend()\n",
    "plt.gca().spines['right'].set_visible(False)\n",
    "plt.gca().spines['right'].set_visible(False)"
   ]
  },
  {
   "cell_type": "markdown",
   "id": "daf14708",
   "metadata": {},
   "source": [
    "Summary of regression results between multiple variables."
   ]
  },
  {
   "cell_type": "code",
   "execution_count": null,
   "id": "79950e11",
   "metadata": {
    "scrolled": true
   },
   "outputs": [],
   "source": [
    "m_1 = 'price ~ basement + numberOfRooms + squareMeters + attic + garage'\n",
    "\n",
    "result3 = smf.ols(m_1, data = transformed_df).fit()\n",
    "print(result3.summary())"
   ]
  },
  {
   "cell_type": "markdown",
   "id": "aa513717",
   "metadata": {},
   "source": [
    "Predicted regression line for multiple variables"
   ]
  },
  {
   "cell_type": "code",
   "execution_count": null,
   "id": "c99ee881",
   "metadata": {},
   "outputs": [],
   "source": [
    "_, ax = plt.subplots(figsize= (10, 8))\n",
    "\n",
    "plt.scatter(x_test, y_test, color= 'blue', label = 'data')\n",
    "\n",
    "plt.plot(x_test, reg.predict(x_test), color='red', label= ' Predicted Regression line')\n",
    "\n",
    "plt.xlabel(((('numberOfRooms', 'basement','attic', 'garage'))))\n",
    "plt.ylabel('price')\n",
    "plt.legend()\n",
    "plt.gca().spines['right'].set_visible(False)\n",
    "plt.gca().spines['right'].set_visible(False)"
   ]
  },
  {
   "cell_type": "markdown",
   "id": "d0af8b55-08f4-4a68-bb09-dd64e66167c8",
   "metadata": {},
   "source": [
    "## Visualizing the model's predictions and comparing them to the actual values"
   ]
  },
  {
   "cell_type": "code",
   "execution_count": null,
   "id": "a3c42eb5",
   "metadata": {},
   "outputs": [],
   "source": [
    "# Scatter plot of actual vs. predicted values\n",
    "plt.scatter(y_test, y_pred, alpha=0.5)\n",
    "plt.title('Actual vs. Predicted Values')\n",
    "plt.xlabel('Actual Values')\n",
    "plt.ylabel('Predicted Values')\n",
    "plt.show()"
   ]
  },
  {
   "cell_type": "code",
   "execution_count": null,
   "id": "9f7184f6-33e9-415f-a175-b35cd1a28ec1",
   "metadata": {},
   "outputs": [],
   "source": [
    "# Line plot of actual vs. predicted values\n",
    "plt.plot(y_test, label='Actual', marker='o')\n",
    "plt.plot(y_pred, label='Predicted', marker='x')\n",
    "plt.title('Actual vs. Predicted Values Over Data Points')\n",
    "plt.xlabel('Data Points')\n",
    "plt.ylabel('Values')\n",
    "plt.legend()\n",
    "plt.show()"
   ]
  },
  {
   "cell_type": "markdown",
   "id": "b4e52409-9713-4dc8-9173-2d623d779c20",
   "metadata": {},
   "source": [
    "# Summary and Conclusion"
   ]
  },
  {
   "cell_type": "markdown",
   "id": "1047c0e8-9aa7-47d7-8d59-94a8754f706c",
   "metadata": {},
   "source": [
    "The comprehensive analysis conducted by Mali Safi and Sons serves as a pivotal guide for the Distinguished Group of Parisian Investors venturing into the real estate sector. The significance of the models lies in their ability to offer nuanced insights, predictive accuracy, and strategic guidance tailored to the unique dynamics of the Paris housing market.\n",
    "\n",
    "In culmination with the formulated hypothesis that intrinsically correlates to the models created and clear insight that influences the clear decision-making process of the Distinguished group Investors.\n",
    "\n",
    "The models, developed through meticulous data analysis, not only identify key variables i.e ('numberOfRooms', 'basement','attic', 'garage') influencing property prices but also provide a robust framework for predictive modeling. These tools enable Mali Safi and Sons to offer valuable guidance to the investors, informing their decisions on strategic investments, risk mitigation, and the development of tailored solutions to address the pressing issue of affordable housing.\n",
    "\n",
    "By delving into the relationships between various features and property prices, e.g take a look at the price for a house with 83841sqmeters which is 8390030.5. The models empower the investors to navigate the intricacies of the market with a data-driven approach. Statistical significance achieved through hypothesis testing adds credibility to the insights derived, ensuring that the investors can make informed decisions based on a solid foundation of analysis.From the models, both the R-squared and the adjusted R-squared eaquals to 1 which proofs a perfect regression and both models show a significant linear relationship between the variables and the property prices.\n",
    "\n",
    "Furthermore, the models facilitate effective communication of complex insights, allowing Mali Safi and Sons to convey the significance of variables and market trends to the investors in a clear and actionable manner. In essence, these analytical tools not only serve as predictive instruments but also as strategic enablers, guiding the Distinguished Group of Parisian Investors towards well-informed and strategic decisions in the realm of real estate."
   ]
  }
 ],
 "metadata": {
  "kernelspec": {
   "display_name": "Python (learn-env)",
   "language": "python",
   "name": "learn-env"
  },
  "language_info": {
   "codemirror_mode": {
    "name": "ipython",
    "version": 3
   },
   "file_extension": ".py",
   "mimetype": "text/x-python",
   "name": "python",
   "nbconvert_exporter": "python",
   "pygments_lexer": "ipython3",
   "version": "3.11.5"
  }
 },
 "nbformat": 4,
 "nbformat_minor": 5
}
